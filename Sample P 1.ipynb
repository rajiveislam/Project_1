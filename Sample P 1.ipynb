{
 "cells": [
  {
   "cell_type": "markdown",
   "metadata": {},
   "source": [
    "![example](images/director_shot.jpeg)"
   ]
  },
  {
   "cell_type": "markdown",
   "metadata": {},
   "source": [
    "# Microsoft New Movie Studio Project\n",
    "\n",
    "**Authors:** \n",
    "***"
   ]
  },
  {
   "cell_type": "markdown",
   "metadata": {},
   "source": [
    "## Overview\n",
    "\n",
    "In light of the burgeoning movie market, Microsoft intends to establish a new movie studio. As a start-up, it's crucial to make a favorable impression with a well-received film that is also profitable, ensuring the company's sustained growth. How to make a successful movie? This problem can be splitted into 3 smaller questions:\n",
    "\n",
    "1. Which genre(s) should be chosen?\n",
    "2. What is the budget range?\n",
    "3. When is the best time to release the movie?\n",
    "\n",
    "To answer the questions, the project needs to find out:\n",
    "\n",
    "1. Which genre of movies tends to receive higher ratings?\n",
    "2. Which genre of movies tends to offer a higher return on investment (ROI)?\n",
    "3. What is the budget range for great ROI?\n",
    "4. Does the release time of a movie impact its gross? If so, in which month are gross typically higher?\n",
    "\n",
    "To address the above questions, this project will collate and analyze movie-related data from 2011 to 2019, focusing on:\n",
    "\n",
    "1. The correlation between movie genres and ratings.\n",
    "2. The relationship between movie gross performance and release time.\n",
    "3. The interplay among movie genre, ROI, and production budget.\n",
    "\n",
    "Since Microsoft has a large consumer base in worldwide, so its movie should also target the whole world. In this case, not only US domestic market gross but also worldwide market gross needs to be considered.\n",
    "\n",
    "## Conclusion: \n",
    "\n",
    "The top 5 tier of genres with high raiting and great ROI are:\n",
    "1. Drama, Fantasy\n",
    "2. Family\n",
    "3. Musical, Documentary, Animation, Comedy\n",
    "4. History, Action, Romance\n",
    "5. Sport\n",
    "\n",
    "We suggest that Microsoft's new movie can be selected from the gernes above.\n",
    "\n",
    "The months that generally yield higher gross are May, June, July, November, and December (in order). We recommend that Microsoft set its movie release time in May, June, or July.\n",
    "\n",
    "The budget of movies with the ROIs higher than benchmark (28% - 45%) are likely to be in the range of 10,000,000 to 32,000,000. We suggest Microsoft set the budget within this range."
   ]
  },
  {
   "cell_type": "code",
   "execution_count": 2,
   "metadata": {},
   "outputs": [],
   "source": [
    "# Import standard packages\n",
    "import pandas as pd\n",
    "import numpy as np\n",
    "import matplotlib.pyplot as plt\n",
    "import seaborn as sns\n",
    "\n",
    "%matplotlib inline"
   ]
  },
  {
   "cell_type": "code",
   "execution_count": null,
   "metadata": {},
   "outputs": [],
   "source": [
    "ls"
   ]
  },
  {
   "cell_type": "markdown",
   "metadata": {},
   "source": [
    "# Import and understand the data"
   ]
  },
  {
   "cell_type": "code",
   "execution_count": 6,
   "metadata": {},
   "outputs": [],
   "source": [
    "df_movieinfo = pd.read_csv('dsc-project-template-template-aab/dsc-project-template-template-aab/zippedData/bom.movie_gross.csv.gz')``"
   ]
  },
  {
   "cell_type": "code",
   "execution_count": null,
   "metadata": {},
   "outputs": [],
   "source": [
    "df= pd.read_csv('')"
   ]
  },
  {
   "cell_type": "code",
   "execution_count": 7,
   "metadata": {},
   "outputs": [
    {
     "data": {
      "text/html": [
       "<div>\n",
       "<style scoped>\n",
       "    .dataframe tbody tr th:only-of-type {\n",
       "        vertical-align: middle;\n",
       "    }\n",
       "\n",
       "    .dataframe tbody tr th {\n",
       "        vertical-align: top;\n",
       "    }\n",
       "\n",
       "    .dataframe thead th {\n",
       "        text-align: right;\n",
       "    }\n",
       "</style>\n",
       "<table border=\"1\" class=\"dataframe\">\n",
       "  <thead>\n",
       "    <tr style=\"text-align: right;\">\n",
       "      <th></th>\n",
       "      <th>title</th>\n",
       "      <th>studio</th>\n",
       "      <th>domestic_gross</th>\n",
       "      <th>foreign_gross</th>\n",
       "      <th>year</th>\n",
       "    </tr>\n",
       "  </thead>\n",
       "  <tbody>\n",
       "    <tr>\n",
       "      <th>0</th>\n",
       "      <td>Toy Story 3</td>\n",
       "      <td>BV</td>\n",
       "      <td>415000000.0</td>\n",
       "      <td>652000000</td>\n",
       "      <td>2010</td>\n",
       "    </tr>\n",
       "    <tr>\n",
       "      <th>1</th>\n",
       "      <td>Alice in Wonderland (2010)</td>\n",
       "      <td>BV</td>\n",
       "      <td>334200000.0</td>\n",
       "      <td>691300000</td>\n",
       "      <td>2010</td>\n",
       "    </tr>\n",
       "    <tr>\n",
       "      <th>2</th>\n",
       "      <td>Harry Potter and the Deathly Hallows Part 1</td>\n",
       "      <td>WB</td>\n",
       "      <td>296000000.0</td>\n",
       "      <td>664300000</td>\n",
       "      <td>2010</td>\n",
       "    </tr>\n",
       "    <tr>\n",
       "      <th>3</th>\n",
       "      <td>Inception</td>\n",
       "      <td>WB</td>\n",
       "      <td>292600000.0</td>\n",
       "      <td>535700000</td>\n",
       "      <td>2010</td>\n",
       "    </tr>\n",
       "    <tr>\n",
       "      <th>4</th>\n",
       "      <td>Shrek Forever After</td>\n",
       "      <td>P/DW</td>\n",
       "      <td>238700000.0</td>\n",
       "      <td>513900000</td>\n",
       "      <td>2010</td>\n",
       "    </tr>\n",
       "    <tr>\n",
       "      <th>...</th>\n",
       "      <td>...</td>\n",
       "      <td>...</td>\n",
       "      <td>...</td>\n",
       "      <td>...</td>\n",
       "      <td>...</td>\n",
       "    </tr>\n",
       "    <tr>\n",
       "      <th>3382</th>\n",
       "      <td>The Quake</td>\n",
       "      <td>Magn.</td>\n",
       "      <td>6200.0</td>\n",
       "      <td>NaN</td>\n",
       "      <td>2018</td>\n",
       "    </tr>\n",
       "    <tr>\n",
       "      <th>3383</th>\n",
       "      <td>Edward II (2018 re-release)</td>\n",
       "      <td>FM</td>\n",
       "      <td>4800.0</td>\n",
       "      <td>NaN</td>\n",
       "      <td>2018</td>\n",
       "    </tr>\n",
       "    <tr>\n",
       "      <th>3384</th>\n",
       "      <td>El Pacto</td>\n",
       "      <td>Sony</td>\n",
       "      <td>2500.0</td>\n",
       "      <td>NaN</td>\n",
       "      <td>2018</td>\n",
       "    </tr>\n",
       "    <tr>\n",
       "      <th>3385</th>\n",
       "      <td>The Swan</td>\n",
       "      <td>Synergetic</td>\n",
       "      <td>2400.0</td>\n",
       "      <td>NaN</td>\n",
       "      <td>2018</td>\n",
       "    </tr>\n",
       "    <tr>\n",
       "      <th>3386</th>\n",
       "      <td>An Actor Prepares</td>\n",
       "      <td>Grav.</td>\n",
       "      <td>1700.0</td>\n",
       "      <td>NaN</td>\n",
       "      <td>2018</td>\n",
       "    </tr>\n",
       "  </tbody>\n",
       "</table>\n",
       "<p>3387 rows × 5 columns</p>\n",
       "</div>"
      ],
      "text/plain": [
       "                                            title      studio  domestic_gross  \\\n",
       "0                                     Toy Story 3          BV     415000000.0   \n",
       "1                      Alice in Wonderland (2010)          BV     334200000.0   \n",
       "2     Harry Potter and the Deathly Hallows Part 1          WB     296000000.0   \n",
       "3                                       Inception          WB     292600000.0   \n",
       "4                             Shrek Forever After        P/DW     238700000.0   \n",
       "...                                           ...         ...             ...   \n",
       "3382                                    The Quake       Magn.          6200.0   \n",
       "3383                  Edward II (2018 re-release)          FM          4800.0   \n",
       "3384                                     El Pacto        Sony          2500.0   \n",
       "3385                                     The Swan  Synergetic          2400.0   \n",
       "3386                            An Actor Prepares       Grav.          1700.0   \n",
       "\n",
       "     foreign_gross  year  \n",
       "0        652000000  2010  \n",
       "1        691300000  2010  \n",
       "2        664300000  2010  \n",
       "3        535700000  2010  \n",
       "4        513900000  2010  \n",
       "...            ...   ...  \n",
       "3382           NaN  2018  \n",
       "3383           NaN  2018  \n",
       "3384           NaN  2018  \n",
       "3385           NaN  2018  \n",
       "3386           NaN  2018  \n",
       "\n",
       "[3387 rows x 5 columns]"
      ]
     },
     "execution_count": 7,
     "metadata": {},
     "output_type": "execute_result"
    }
   ],
   "source": [
    "df_movieinfo"
   ]
  },
  {
   "cell_type": "code",
   "execution_count": 5,
   "metadata": {},
   "outputs": [
    {
     "name": "stdout",
     "output_type": "stream",
     "text": [
      "<class 'pandas.core.frame.DataFrame'>\n",
      "RangeIndex: 3387 entries, 0 to 3386\n",
      "Data columns (total 5 columns):\n",
      " #   Column          Non-Null Count  Dtype  \n",
      "---  ------          --------------  -----  \n",
      " 0   title           3387 non-null   object \n",
      " 1   studio          3382 non-null   object \n",
      " 2   domestic_gross  3359 non-null   float64\n",
      " 3   foreign_gross   2037 non-null   object \n",
      " 4   year            3387 non-null   int64  \n",
      "dtypes: float64(1), int64(1), object(3)\n",
      "memory usage: 132.4+ KB\n"
     ]
    }
   ],
   "source": [
    "df_movieinfo.info()"
   ]
  },
  {
   "cell_type": "code",
   "execution_count": null,
   "metadata": {},
   "outputs": [],
   "source": [
    "df_movieinfo = pd.read_csv('ppedData\\imdb.title.basics.csv.gz')\n",
    "dfimdb_rating = pd.read_csv(r'zippedData\\imdb.title.ratings.csv.gz')\n",
    "dfbudget = pd.read_csv(r'zippedData\\tn.movie_budgets.csv.gz')"
   ]
  },
  {
   "cell_type": "code",
   "execution_count": null,
   "metadata": {},
   "outputs": [],
   "source": [
    "#Check columns to understand the data and see if there is null\n",
    "df_movieinfo.info()\n",
    "df_movieinfo\n",
    "dfimdb_rating.info()\n",
    "dfimdb_rating\n",
    "dfbudget.info()\n",
    "dfbudget"
   ]
  },
  {
   "cell_type": "markdown",
   "metadata": {
    "scrolled": false
   },
   "source": [
    "_______________________________________________________________________________________________________________\n",
    "\n",
    "# Q1: What are the movie genres should Microsft choose? \n",
    "\n",
    "The top movie genres should be popular and with the highest ratings, which includes two aguments for analysis: number of votes and rating. There is a possibility that audience preferrence changes, so we will analyse last 9-year data but seperated into 3 periods and see if the changes happen.\n",
    "\n",
    "_______________________________________________________________________________________________________________"
   ]
  },
  {
   "cell_type": "code",
   "execution_count": null,
   "metadata": {
    "scrolled": true
   },
   "outputs": [],
   "source": [
    "#merge movie_info and rating data together\n",
    "df_info_rating = dfimdb_rating.merge(df_movieinfo, on='tconst', how='left')\n",
    "df_info_rating.info()\n",
    "df_info_rating"
   ]
  },
  {
   "cell_type": "code",
   "execution_count": null,
   "metadata": {
    "scrolled": true
   },
   "outputs": [],
   "source": [
    "# Filter the data from 2011 to 2013 (3-year period)\n",
    "df_info_rating2013 = df_info_rating[(df_info_rating['start_year'] >= 2011) & (df_info_rating['start_year'] <= 2013)][['averagerating', 'genres', 'numvotes', 'start_year']]\n",
    "\n",
    "# The vote number lower than 500, indicating that the movie is not popular amoung audience\n",
    "df_info_rating2013a = df_info_rating2013[(df_info_rating2013['numvotes'] >= 500)] \n",
    "\n",
    "# Movie list from 2011 to 2013 with more than 500 votes \n",
    "df_info_rating2013a.head(10)"
   ]
  },
  {
   "cell_type": "code",
   "execution_count": null,
   "metadata": {
    "scrolled": true
   },
   "outputs": [],
   "source": [
    "# Caculate the averagerating for each genre and find out the top 10\n",
    "df_grouped2013 = df_info_rating2013a.groupby('genres')['averagerating'].mean()\n",
    "df_sorted2013 = df_grouped2013.sort_values(ascending=False)\n",
    "df_sorted2013a = df_sorted2013.reset_index()\n",
    "df_sorted2013a.columns = ['genres', 'averagerating']\n",
    "df_sorted2013a.head(10)\n",
    "\n",
    "# Preparation for barh chart creation\n",
    "df_sorted2013a.head(10).set_index('genres', inplace=True)\n",
    "df2013b = df_sorted2013a.head(10)\n",
    "df2013c = df2013b.sort_values(by='averagerating')\n",
    "\n",
    "# Check the final data for visulisation\n",
    "df2013c"
   ]
  },
  {
   "cell_type": "code",
   "execution_count": null,
   "metadata": {
    "scrolled": true
   },
   "outputs": [],
   "source": [
    "#Create barh chart\n",
    "df2013c.set_index('genres', inplace=True)\n",
    "df2013c['averagerating'].plot(kind='barh', figsize=(12, 6))\n",
    "\n",
    "plt.title('Highest Average Rating by Genre 2011-2013')\n",
    "plt.xlabel('Genres')\n",
    "plt.ylabel('Average Rating')\n",
    "plt.show()"
   ]
  },
  {
   "cell_type": "markdown",
   "metadata": {},
   "source": [
    "#repeat the same process for the period of 2014 to 2016, 2017 to 2019"
   ]
  },
  {
   "cell_type": "code",
   "execution_count": null,
   "metadata": {
    "scrolled": true
   },
   "outputs": [],
   "source": [
    "df_info_rating2016 = df_info_rating[(df_info_rating['start_year'] >= 2014) & (df_info_rating['start_year'] <= 2016)][['averagerating', 'genres', 'numvotes', 'start_year']]\n",
    "df_info_rating2016a = df_info_rating2016[(df_info_rating2016['numvotes'] >= 500)] \n",
    "\n",
    "df_grouped2016 = df_info_rating2016a.groupby('genres')['averagerating'].mean()\n",
    "df_sorted2016 = df_grouped2016.sort_values(ascending=False)\n",
    "df_sorted2016a = df_sorted2016.reset_index()\n",
    "df_sorted2016a.columns = ['genres', 'averagerating']\n",
    "df_sorted2016a.head(10)\n",
    "\n",
    "df_sorted2016a.head(10).set_index('genres', inplace=True)\n",
    "df2016b = df_sorted2016a.head(10)\n",
    "df2016c = df2016b.sort_values(by='averagerating')\n",
    "df2016c\n",
    "\n",
    "df2016c.set_index('genres', inplace=True)\n",
    "df2016c['averagerating'].plot(kind='barh', figsize=(12, 6))\n",
    "\n",
    "plt.title('Highest Average Rating by Genre 2014-2016')\n",
    "plt.xlabel('Genres')\n",
    "plt.ylabel('Average Rating')\n",
    "plt.show()"
   ]
  },
  {
   "cell_type": "code",
   "execution_count": null,
   "metadata": {
    "scrolled": true
   },
   "outputs": [],
   "source": [
    "df_info_rating2019 = df_info_rating[(df_info_rating['start_year'] >= 2017) & (df_info_rating['start_year'] <= 2019)][['averagerating', 'genres', 'numvotes', 'start_year']]\n",
    "df_info_rating2019a = df_info_rating2019[(df_info_rating2019['numvotes'] >= 500)] \n",
    "\n",
    "df_grouped2019 = df_info_rating2019a.groupby('genres')['averagerating'].mean()\n",
    "df_sorted2019 = df_grouped2019.sort_values(ascending=False)\n",
    "df_sorted2019a = df_sorted2019.reset_index()\n",
    "df_sorted2019a.columns = ['genres', 'averagerating']\n",
    "df_sorted2019a.head(10)\n",
    "\n",
    "df_sorted2019a.head(10).set_index('genres', inplace=True)\n",
    "df2019b = df_sorted2019a.head(10)\n",
    "df2019c = df2019b.sort_values(by='averagerating')\n",
    "df2019c\n",
    "\n",
    "df2019c.set_index('genres', inplace=True)\n",
    "df2019c['averagerating'].plot(kind='barh', figsize=(12, 6))\n",
    "\n",
    "plt.title('Highest Average Rating by Genre 2017-2019')\n",
    "plt.xlabel('Genres')\n",
    "plt.ylabel('Average Rating')\n",
    "plt.show()"
   ]
  },
  {
   "cell_type": "markdown",
   "metadata": {},
   "source": [
    "# Conclusion\n",
    "\n",
    "The top 10 genres for the three periods are the same, indicating that these genres have been constantly popular in almost a decade and audience seems to have no major changes regarding the genres. \n",
    "\n",
    "It is concluded that from 2011 to 2019, the genres that the majority of audiences favor remained fairly consistent. \n",
    "The top 10 genres with the highest ratings are: \n",
    "1. Adventure-Family\n",
    "2. Crime-Documentary\n",
    "3. Adventure-War\n",
    "4. War-Music-Documentary\n",
    "5. Fantasy-Music-Drama\n",
    "6. Adventure-Documentary\n",
    "7. History-Sport-Documentary\n",
    "8. Mystery-Animation-Documentary\n",
    "9. Biography-Adventure\n",
    "10. Sport-Animation\n",
    "We suggest that Microsoft's maiden movie genre be selected from these ten genres, ranked here from highest to lowest rating.\n",
    "\n",
    "### HOWEVER THIS IS NOT THE FINAL CONCLUSION.\n",
    "\n",
    "Movie production also needs to consider ROI, so we will compare the list above with the list of best ROI to find out the genres. \n",
    "\n",
    "### Please see the analysis after Q3."
   ]
  },
  {
   "cell_type": "markdown",
   "metadata": {},
   "source": [
    "\n",
    "\n",
    "# Q2: What is the best month for movie release?\n",
    "\n",
    "We will summarise the mean of gross by movie release month and compare the numbers.\n",
    "_______________________________________________________________________________________________________________"
   ]
  },
  {
   "cell_type": "code",
   "execution_count": null,
   "metadata": {
    "scrolled": true
   },
   "outputs": [],
   "source": [
    "#check the data\n",
    "dfbudget"
   ]
  },
  {
   "cell_type": "code",
   "execution_count": null,
   "metadata": {},
   "outputs": [],
   "source": [
    "# Transfer $ format to int64\n",
    "dfbudget_dg = dfbudget['domestic_gross'].str.replace('[\\$,]', '', regex=True).astype('int64')\n",
    "dfbudget_wg = dfbudget['worldwide_gross'].str.replace('[\\$,]', '', regex=True).astype('int64')\n",
    "\n",
    "# Caculate total gross\n",
    "dfbudget['total_gross'] = dfbudget_dg + dfbudget_wg\n",
    "\n",
    "# Extract the month from the release date\n",
    "dfbudget['month'] = dfbudget['release_date'].str.split(' ', expand=True)[0].astype(str)\n",
    "dfbudget['month'] = dfbudget['month'].str.strip()\n",
    "\n",
    "dfbudget # Check the final version"
   ]
  },
  {
   "cell_type": "code",
   "execution_count": null,
   "metadata": {
    "scrolled": false
   },
   "outputs": [],
   "source": [
    "# Calculate the mean of total gross by month\n",
    "df_moviebesttime = dfbudget.groupby('month')['total_gross'].mean()\n",
    "\n",
    "# Make the data more readable\n",
    "df_moviebesttime = pd.DataFrame(df_moviebesttime)\n",
    "df_moviebesttime = df_moviebesttime.reset_index()\n",
    "df_moviebesttime.columns = ['month', 'total_gross']\n",
    "df_moviebesttime"
   ]
  },
  {
   "cell_type": "code",
   "execution_count": null,
   "metadata": {},
   "outputs": [],
   "source": [
    "# Replace the months by numbers for ranking\n",
    "df_moviebesttime['month'] = df_moviebesttime['month'].replace({'Jan': '1'})\n",
    "df_moviebesttime['month'] = df_moviebesttime['month'].replace({'Feb': '2'})\n",
    "df_moviebesttime['month'] = df_moviebesttime['month'].replace({'Mar': '3'})\n",
    "df_moviebesttime['month'] = df_moviebesttime['month'].replace({'Apr': '4'})\n",
    "df_moviebesttime['month'] = df_moviebesttime['month'].replace({'May': '5'})\n",
    "df_moviebesttime['month'] = df_moviebesttime['month'].replace({'Jun': '6'})\n",
    "df_moviebesttime['month'] = df_moviebesttime['month'].replace({'Jul': '7'})\n",
    "df_moviebesttime['month'] = df_moviebesttime['month'].replace({'Aug': '8'})\n",
    "df_moviebesttime['month'] = df_moviebesttime['month'].replace({'Sep': '9'})\n",
    "df_moviebesttime['month'] = df_moviebesttime['month'].replace({'Oct': '10'})\n",
    "df_moviebesttime['month'] = df_moviebesttime['month'].replace({'Nov': '11'})\n",
    "df_moviebesttime['month'] = df_moviebesttime['month'].replace({'Dec': '12'})\n",
    "df_moviebesttime['month'] = df_moviebesttime['month'].astype(int)\n",
    "df_moviebesttime = df_moviebesttime.sort_values('month')\n",
    "df_moviebesttime"
   ]
  },
  {
   "cell_type": "code",
   "execution_count": null,
   "metadata": {
    "scrolled": true
   },
   "outputs": [],
   "source": [
    "#Crreate the bar chart to compare the gross for each month\n",
    "df_moviebesttime.plot.bar(x='month', y='total_gross', title='Average gross for each month')\n",
    "plt.xticks(rotation=0)\n",
    "plt.show()\n"
   ]
  },
  {
   "cell_type": "markdown",
   "metadata": {},
   "source": [
    "# Conclusion\n",
    "\n",
    "The months that generally yield higher box office revenues are May, June, July, November, and December (in order). We recommend that Microsoft time its movie releases for May, June, or July."
   ]
  },
  {
   "cell_type": "markdown",
   "metadata": {},
   "source": [
    "# Q3: Which genres has the highest ROI rate? And what are the common budget for great ROI?"
   ]
  },
  {
   "cell_type": "code",
   "execution_count": null,
   "metadata": {},
   "outputs": [],
   "source": [
    "dfbudget"
   ]
  },
  {
   "cell_type": "code",
   "execution_count": null,
   "metadata": {
    "scrolled": true
   },
   "outputs": [],
   "source": [
    "duplicates = df_movieinfo.duplicated(subset=['primary_title'])\n",
    "print(duplicates)"
   ]
  },
  {
   "cell_type": "code",
   "execution_count": null,
   "metadata": {},
   "outputs": [],
   "source": [
    "df_genre_ROI = dfbudget.merge(df_movieinfo[['primary_title', 'genres']], \n",
    "                           left_on='movie', \n",
    "                           right_on='primary_title', \n",
    "                           how='inner')\n",
    "df_genre_ROI"
   ]
  },
  {
   "cell_type": "code",
   "execution_count": null,
   "metadata": {},
   "outputs": [],
   "source": [
    "df_genre_ROI['production_budget'] = df_genre_ROI['production_budget'].str.replace('[\\$,]', '', regex=True).astype('int64')\n",
    "df_genre_ROI['ROI'] = (df_genre_ROI['total_gross'] - df_genre_ROI['production_budget'])/df_genre_ROI['production_budget']\n",
    "df_genre_ROI"
   ]
  },
  {
   "cell_type": "code",
   "execution_count": null,
   "metadata": {},
   "outputs": [],
   "source": [
    "df_genre_ROI_grouped = df_genre_ROI.groupby('genres')[['ROI', 'production_budget']].mean()\n",
    "df_genre_ROI_grouped"
   ]
  },
  {
   "cell_type": "code",
   "execution_count": null,
   "metadata": {},
   "outputs": [],
   "source": [
    "# Make the data more readable\n",
    "df_genre_ROI_grouped = pd.DataFrame(df_genre_ROI_grouped)\n",
    "df_genre_ROI_grouped = df_genre_ROI_grouped.reset_index()\n",
    "df_genre_ROI_grouped.columns = ['Genres', 'ROI(%)', 'Budget($)']\n",
    "df_sorted = df_genre_ROI_grouped.sort_values('ROI(%)', ascending=False)\n",
    "df_sorted.head(20)"
   ]
  },
  {
   "cell_type": "markdown",
   "metadata": {},
   "source": [
    "The median of the studio-financed movies is 27%, according to New York University's research on 2010. The movies with ROI above 27% can be considered as movies with great ROI.\n",
    "\n",
    "Source: https://www.stern.nyu.edu/sites/default/files/assets/documents/uat_024304.pdf"
   ]
  },
  {
   "cell_type": "code",
   "execution_count": null,
   "metadata": {},
   "outputs": [],
   "source": [
    "df_sorted['ROI(%)'] = df_sorted['ROI(%)'].astype(float)\n",
    "df_sorted_goodROI = df_sorted[df_sorted['ROI(%)'] > 27]\n",
    "df_sorted_goodROI"
   ]
  },
  {
   "cell_type": "code",
   "execution_count": null,
   "metadata": {
    "scrolled": true
   },
   "outputs": [],
   "source": [
    "import seaborn as sns\n",
    "import matplotlib.pyplot as plt\n",
    "\n",
    "df_sorted_goodROI['Budget($)'] = df_sorted_goodROI['Budget($)'] / 1e6  # 1e6 = 1,000,000\n",
    "\n",
    "plt.figure(figsize=(8, 5))  \n",
    "sns.scatterplot(data=df_sorted_goodROI, x='Budget($)', y='ROI(%)', hue='Genres', palette='tab10', s=150)\n",
    "\n",
    "plt.xlabel('Budget($Million))') \n",
    "plt.ylabel('ROI(%)')  \n",
    "\n",
    "plt.xticks(ticks=np.linspace(df_sorted_goodROI['Budget($)'].min(), df_sorted_goodROI['Budget($)'].max(), 10))\n",
    "plt.yticks(ticks=np.linspace(df_sorted_goodROI['ROI(%)'].min(), df_sorted_goodROI['ROI(%)'].max(), 10))\n",
    "\n",
    "plt.legend(bbox_to_anchor=(1.05, 1), loc=2)  \n",
    "plt.show()\n"
   ]
  },
  {
   "cell_type": "markdown",
   "metadata": {},
   "source": [
    "## Conclusion: \n",
    "\n",
    "Movie genres that have demonstrated good ROI include Family-Animation, Family-Fantasy, Action-Comedy, and Crime. Family-Animation significantly outperforms the other genres in terms of ROI. The remaining high-performing genres have an ROI in the range of 28% to 45%, with budgets generally between 10 million and 32 million. We advise that Microsoft's first film fall within one of these high-performing genres, with a budget set in the 10 to 32 million range."
   ]
  },
  {
   "cell_type": "markdown",
   "metadata": {},
   "source": [
    "## Q1 Continue\n",
    "\n",
    "Compare the list of:\n",
    "1. The genres with the highest average rating\n",
    "2. The genres with the ROI over 27%\n",
    "\n",
    "to find out the genres for Microsoft first movie"
   ]
  },
  {
   "cell_type": "code",
   "execution_count": null,
   "metadata": {
    "scrolled": true
   },
   "outputs": [],
   "source": [
    "# The value in genres contains multiple genres, it has to be splited for analysis\n",
    "df1 = df_sorted_goodROI['Genres'].str.split(',', expand=True).stack()\n",
    "df1"
   ]
  },
  {
   "cell_type": "code",
   "execution_count": null,
   "metadata": {
    "scrolled": false
   },
   "outputs": [],
   "source": [
    "# Since the results are all the same, either of them can be used for comparison\n",
    "# The value in genres contains multiple genres, it has to be splited for analysis\n",
    "df2013d = df2013c.reset_index()\n",
    "df2 = df2013d['genres'].str.split(',', expand=True).stack()\n",
    "df2"
   ]
  },
  {
   "cell_type": "code",
   "execution_count": null,
   "metadata": {
    "scrolled": true
   },
   "outputs": [],
   "source": [
    "# Find out the common genres and count\n",
    "common_values = pd.Series(list(set(df1) & set(df2)))\n",
    "counts = df1.append(df2).value_counts()\n",
    "counts"
   ]
  },
  {
   "cell_type": "code",
   "execution_count": null,
   "metadata": {},
   "outputs": [],
   "source": [
    "# Create a bar chart\n",
    "counts.plot(kind='bar')\n",
    "plt.xticks(rotation=45)\n",
    "plt.show()"
   ]
  },
  {
   "cell_type": "markdown",
   "metadata": {},
   "source": [
    "## Conclusion\n",
    "\n",
    "The top 5 gernes keywords are:\n",
    "1. Drama, Fantasy\n",
    "2. Family\n",
    "3. Musical, Documentary, Animation, Comedy\n",
    "4. History, Action, Romance\n",
    "5. Sport\n"
   ]
  },
  {
   "cell_type": "markdown",
   "metadata": {},
   "source": [
    "# END"
   ]
  }
 ],
 "metadata": {
  "kernelspec": {
   "display_name": "Python 3 (ipykernel)",
   "language": "python",
   "name": "python3"
  },
  "language_info": {
   "codemirror_mode": {
    "name": "ipython",
    "version": 3
   },
   "file_extension": ".py",
   "mimetype": "text/x-python",
   "name": "python",
   "nbconvert_exporter": "python",
   "pygments_lexer": "ipython3",
   "version": "3.10.7"
  }
 },
 "nbformat": 4,
 "nbformat_minor": 4
}
